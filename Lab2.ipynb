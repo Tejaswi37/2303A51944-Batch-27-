{
  "nbformat": 4,
  "nbformat_minor": 0,
  "metadata": {
    "colab": {
      "provenance": [],
      "authorship_tag": "ABX9TyONXER/PF7T4khEAIdnl3Rd",
      "include_colab_link": true
    },
    "kernelspec": {
      "name": "python3",
      "display_name": "Python 3"
    },
    "language_info": {
      "name": "python"
    }
  },
  "cells": [
    {
      "cell_type": "markdown",
      "metadata": {
        "id": "view-in-github",
        "colab_type": "text"
      },
      "source": [
        "<a href=\"https://colab.research.google.com/github/Tejaswi37/Python-for-data-science/blob/main/Lab2.ipynb\" target=\"_parent\"><img src=\"https://colab.research.google.com/assets/colab-badge.svg\" alt=\"Open In Colab\"/></a>"
      ]
    },
    {
      "cell_type": "code",
      "execution_count": 1,
      "metadata": {
        "id": "nLZQSGoY-rT_"
      },
      "outputs": [],
      "source": [
        "import pandas as pd"
      ]
    },
    {
      "cell_type": "code",
      "source": [
        "# Step 1: Create sample sales data\n",
        "data = {\n",
        "    \"Order_ID\": [101, 102, 103, 104, 105, 106, 107],\n",
        "    \"Product\": [\"Laptop\", \"Smartphone\", \"Laptop\", \"Tablet\", \"Smartwatch\", \"Smartphone\", \"Laptop\"],\n",
        "    \"Quantity\": [2, 5, 1, 3, 4, 2, 1],\n",
        "    \"Price\": [50000, 15000, 50000, 20000, 8000, 15000, 50000]\n",
        "}\n",
        "\n",
        "df = pd.DataFrame(data)\n",
        "print(\"Initial DataFrame:\")\n",
        "print(df, \"\\n\")"
      ],
      "metadata": {
        "colab": {
          "base_uri": "https://localhost:8080/"
        },
        "id": "PLum51kq-0B2",
        "outputId": "df98c139-2b03-49fa-f3f4-bc11c9d6257c"
      },
      "execution_count": 2,
      "outputs": [
        {
          "output_type": "stream",
          "name": "stdout",
          "text": [
            "Initial DataFrame:\n",
            "   Order_ID     Product  Quantity  Price\n",
            "0       101      Laptop         2  50000\n",
            "1       102  Smartphone         5  15000\n",
            "2       103      Laptop         1  50000\n",
            "3       104      Tablet         3  20000\n",
            "4       105  Smartwatch         4   8000\n",
            "5       106  Smartphone         2  15000\n",
            "6       107      Laptop         1  50000 \n",
            "\n"
          ]
        }
      ]
    },
    {
      "cell_type": "code",
      "source": [
        "# Step 2: Calculate Total Sale per order\n",
        "df[\"Total_Sale\"] = df[\"Quantity\"] * df[\"Price\"]\n",
        "print(\"DataFrame with Total Sale:\")\n",
        "print(df, \"\\n\")"
      ],
      "metadata": {
        "colab": {
          "base_uri": "https://localhost:8080/"
        },
        "id": "fvpvIzS7-32v",
        "outputId": "26ead13b-b1e0-4a2b-bd28-e6792ca0a626"
      },
      "execution_count": 3,
      "outputs": [
        {
          "output_type": "stream",
          "name": "stdout",
          "text": [
            "DataFrame with Total Sale:\n",
            "   Order_ID     Product  Quantity  Price  Total_Sale\n",
            "0       101      Laptop         2  50000      100000\n",
            "1       102  Smartphone         5  15000       75000\n",
            "2       103      Laptop         1  50000       50000\n",
            "3       104      Tablet         3  20000       60000\n",
            "4       105  Smartwatch         4   8000       32000\n",
            "5       106  Smartphone         2  15000       30000\n",
            "6       107      Laptop         1  50000       50000 \n",
            "\n"
          ]
        }
      ]
    },
    {
      "cell_type": "code",
      "source": [
        "# Step 3: Filter orders where Total Sale > 1000\n",
        "high_sales = df[df[\"Total_Sale\"] > 1000]\n",
        "print(\"Orders with Total Sale > 1000:\")\n",
        "print(high_sales, \"\\n\")"
      ],
      "metadata": {
        "colab": {
          "base_uri": "https://localhost:8080/"
        },
        "id": "HyMjyne8-6bc",
        "outputId": "2b2d7e58-03cc-4844-f1e0-68ece826f772"
      },
      "execution_count": 4,
      "outputs": [
        {
          "output_type": "stream",
          "name": "stdout",
          "text": [
            "Orders with Total Sale > 1000:\n",
            "   Order_ID     Product  Quantity  Price  Total_Sale\n",
            "0       101      Laptop         2  50000      100000\n",
            "1       102  Smartphone         5  15000       75000\n",
            "2       103      Laptop         1  50000       50000\n",
            "3       104      Tablet         3  20000       60000\n",
            "4       105  Smartwatch         4   8000       32000\n",
            "5       106  Smartphone         2  15000       30000\n",
            "6       107      Laptop         1  50000       50000 \n",
            "\n"
          ]
        }
      ]
    },
    {
      "cell_type": "code",
      "source": [
        "# Step 4: Find most sold product using groupby\n",
        "most_sold = df.groupby(\"Product\")[\"Quantity\"].sum().reset_index()\n",
        "most_sold = most_sold.sort_values(by=\"Quantity\", ascending=False)\n",
        "top_product = most_sold.iloc[0]\n",
        "print(\"Most Sold Product:\")\n",
        "print(top_product, \"\\n\")\n"
      ],
      "metadata": {
        "colab": {
          "base_uri": "https://localhost:8080/"
        },
        "id": "xMZQ026x-_vV",
        "outputId": "a853cd67-5abb-46c6-cbc5-1163e1140d6d"
      },
      "execution_count": 5,
      "outputs": [
        {
          "output_type": "stream",
          "name": "stdout",
          "text": [
            "Most Sold Product:\n",
            "Product     Smartphone\n",
            "Quantity             7\n",
            "Name: 1, dtype: object \n",
            "\n"
          ]
        }
      ]
    },
    {
      "cell_type": "code",
      "source": [
        "# Step 5: Add Discount column\n",
        "\n",
        "def discount_calc(sale):\n",
        "    if sale > 50000:\n",
        "        return sale * 0.10\n",
        "    elif sale > 20000:\n",
        "        return sale * 0.05\n",
        "    else:\n",
        "        return 0\n",
        "\n",
        "df[\"Discount\"] = df[\"Total_Sale\"].apply(discount_calc)\n",
        "print(\"DataFrame with Discount:\")\n",
        "print(df, \"\\n\")\n",
        "\n",
        "# Step 6: Export summary to Excel\n",
        "summary_df = df[[\"Order_ID\", \"Product\", \"Quantity\", \"Price\", \"Total_Sale\", \"Discount\"]]\n",
        "summary_df.to_excel(\"sales_summary.xlsx\", index=False)"
      ],
      "metadata": {
        "colab": {
          "base_uri": "https://localhost:8080/"
        },
        "id": "kIbwWJV4_FV9",
        "outputId": "e1e23188-1757-45ef-a7f7-2767c2f3c05c"
      },
      "execution_count": 11,
      "outputs": [
        {
          "output_type": "stream",
          "name": "stdout",
          "text": [
            "DataFrame with Discount:\n",
            "   Order_ID     Product  Quantity  Price  Total_Sale  Discount\n",
            "0       101      Laptop         2  50000      100000   10000.0\n",
            "1       102  Smartphone         5  15000       75000    7500.0\n",
            "2       103      Laptop         1  50000       50000    2500.0\n",
            "3       104      Tablet         3  20000       60000    6000.0\n",
            "4       105  Smartwatch         4   8000       32000    1600.0\n",
            "5       106  Smartphone         2  15000       30000    1500.0\n",
            "6       107      Laptop         1  50000       50000    2500.0 \n",
            "\n"
          ]
        }
      ]
    }
  ]
}