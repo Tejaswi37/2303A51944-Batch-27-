{
  "nbformat": 4,
  "nbformat_minor": 0,
  "metadata": {
    "colab": {
      "provenance": [],
      "authorship_tag": "ABX9TyPhLHhngwhcY7yLXYuyeOTI",
      "include_colab_link": true
    },
    "kernelspec": {
      "name": "python3",
      "display_name": "Python 3"
    },
    "language_info": {
      "name": "python"
    }
  },
  "cells": [
    {
      "cell_type": "markdown",
      "metadata": {
        "id": "view-in-github",
        "colab_type": "text"
      },
      "source": [
        "<a href=\"https://colab.research.google.com/github/Tejaswi37/2303A51944-Batch-27-/blob/main/lab_5_2.ipynb\" target=\"_parent\"><img src=\"https://colab.research.google.com/assets/colab-badge.svg\" alt=\"Open In Colab\"/></a>"
      ]
    },
    {
      "cell_type": "code",
      "execution_count": 5,
      "metadata": {
        "colab": {
          "base_uri": "https://localhost:8080/"
        },
        "id": "UZsCjftwXRVb",
        "outputId": "66256477-61c5-47d9-e9fb-53a9e83203eb"
      },
      "outputs": [
        {
          "output_type": "stream",
          "name": "stdout",
          "text": [
            "Patients Dataset:\n",
            "   patient_id   name  age     city\n",
            "0           1   Ravi   34    Delhi\n",
            "1           2  Sneha   29   Mumbai\n",
            "2           3   Amit   45  Chennai\n",
            "3           4  Priya   40    Delhi \n",
            "\n",
            "Appointments Dataset:\n",
            "   appointment_id  patient_id     doctor        date\n",
            "0             101           1  Dr. Mehta  2025-09-01\n",
            "1             102           2    Dr. Rao  2025-09-02\n",
            "2             103           1  Dr. Mehta  2025-09-10\n",
            "3             104           3    Dr. Sen  2025-09-12\n",
            "4             105           4  Dr. Mehta  2025-09-14\n",
            "5             106           2    Dr. Rao  2025-09-20\n",
            "6             107           1  Dr. Mehta  2025-09-22 \n",
            "\n",
            "Merged Dataset:\n",
            "   appointment_id  patient_id     doctor        date   name  age     city\n",
            "0             101           1  Dr. Mehta  2025-09-01   Ravi   34    Delhi\n",
            "1             102           2    Dr. Rao  2025-09-02  Sneha   29   Mumbai\n",
            "2             103           1  Dr. Mehta  2025-09-10   Ravi   34    Delhi\n",
            "3             104           3    Dr. Sen  2025-09-12   Amit   45  Chennai\n",
            "4             105           4  Dr. Mehta  2025-09-14  Priya   40    Delhi\n",
            "5             106           2    Dr. Rao  2025-09-20  Sneha   29   Mumbai\n",
            "6             107           1  Dr. Mehta  2025-09-22   Ravi   34    Delhi \n",
            "\n",
            "Appointments per Patient:\n",
            "   patient_id   name  total_visits\n",
            "0           1   Ravi             3\n",
            "1           2  Sneha             2\n",
            "2           3   Amit             1\n",
            "3           4  Priya             1 \n",
            "\n",
            "Doctor Workload:\n",
            "      doctor  total_appointments\n",
            "0  Dr. Mehta                   4\n",
            "1    Dr. Rao                   2\n",
            "2    Dr. Sen                   1 \n",
            "\n",
            "Patient with Maximum Visits:\n",
            "patient_id         1\n",
            "name            Ravi\n",
            "total_visits       3\n",
            "Name: 0, dtype: object \n",
            "\n",
            "Insights:\n",
            "- Ravi has the highest number of visits (3).\n",
            "- Doctor with highest workload: Dr. Mehta (4 appointments).\n"
          ]
        }
      ],
      "source": [
        "import pandas as pd\n",
        "\n",
        "patients = pd.DataFrame({\n",
        "    'patient_id': [1, 2, 3, 4],\n",
        "    'name': ['Ravi', 'Sneha', 'Amit', 'Priya'],\n",
        "    'age': [34, 29, 45, 40],\n",
        "    'city': ['Delhi', 'Mumbai', 'Chennai', 'Delhi']\n",
        "})\n",
        "\n",
        "print(\"Patients Dataset:\")\n",
        "print(patients, \"\\n\")\n",
        "\n",
        "\n",
        "appointments = pd.DataFrame({\n",
        "    'appointment_id': [101, 102, 103, 104, 105, 106, 107],\n",
        "    'patient_id': [1, 2, 1, 3, 4, 2, 1],\n",
        "    'doctor': ['Dr. Mehta', 'Dr. Rao', 'Dr. Mehta', 'Dr. Sen', 'Dr. Mehta', 'Dr. Rao', 'Dr. Mehta'],\n",
        "    'date': ['2025-09-01', '2025-09-02', '2025-09-10', '2025-09-12', '2025-09-14', '2025-09-20', '2025-09-22']\n",
        "})\n",
        "\n",
        "print(\"Appointments Dataset:\")\n",
        "print(appointments, \"\\n\")\n",
        "\n",
        "\n",
        "merged_df = pd.merge(appointments, patients, on='patient_id', how='inner')\n",
        "print(\"Merged Dataset:\")\n",
        "print(merged_df, \"\\n\")\n",
        "\n",
        "\n",
        "patient_visits = merged_df.groupby(['patient_id', 'name'])['appointment_id'].count().reset_index()\n",
        "patient_visits.rename(columns={'appointment_id': 'total_visits'}, inplace=True)\n",
        "print(\"Appointments per Patient:\")\n",
        "print(patient_visits, \"\\n\")\n",
        "\n",
        "doctor_workload = merged_df.groupby('doctor')['appointment_id'].count().reset_index()\n",
        "doctor_workload.rename(columns={'appointment_id': 'total_appointments'}, inplace=True)\n",
        "print(\"Doctor Workload:\")\n",
        "print(doctor_workload, \"\\n\")\n",
        "\n",
        "\n",
        "top_patient = patient_visits.loc[patient_visits['total_visits'].idxmax()]\n",
        "print(\"Patient with Maximum Visits:\")\n",
        "print(top_patient, \"\\n\")\n",
        "\n",
        "\n",
        "print(\"Insights:\")\n",
        "print(f\"- {top_patient['name']} has the highest number of visits ({top_patient['total_visits']}).\")\n",
        "print(f\"- Doctor with highest workload: {doctor_workload.loc[doctor_workload['total_appointments'].idxmax(), 'doctor']} \"\n",
        "      f\"({doctor_workload['total_appointments'].max()} appointments).\")\n"
      ]
    }
  ]
}