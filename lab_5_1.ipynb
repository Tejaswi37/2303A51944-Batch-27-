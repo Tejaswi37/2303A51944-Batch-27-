{
  "nbformat": 4,
  "nbformat_minor": 0,
  "metadata": {
    "colab": {
      "provenance": [],
      "authorship_tag": "ABX9TyPsGfpaMigki4VHosOz4CNQ",
      "include_colab_link": true
    },
    "kernelspec": {
      "name": "python3",
      "display_name": "Python 3"
    },
    "language_info": {
      "name": "python"
    }
  },
  "cells": [
    {
      "cell_type": "markdown",
      "metadata": {
        "id": "view-in-github",
        "colab_type": "text"
      },
      "source": [
        "<a href=\"https://colab.research.google.com/github/Tejaswi37/2303A51944-Batch-27-/blob/main/lab_5_1.ipynb\" target=\"_parent\"><img src=\"https://colab.research.google.com/assets/colab-badge.svg\" alt=\"Open In Colab\"/></a>"
      ]
    },
    {
      "cell_type": "code",
      "execution_count": 3,
      "metadata": {
        "colab": {
          "base_uri": "https://localhost:8080/"
        },
        "id": "UZsCjftwXRVb",
        "outputId": "6833892a-c59c-4f11-ea30-62ba43ebf70b"
      },
      "outputs": [
        {
          "output_type": "stream",
          "name": "stdout",
          "text": [
            "Customers Dataset:\n",
            "   customer_id   name     city\n",
            "0            1   Ravi    Delhi\n",
            "1            2  Sneha   Mumbai\n",
            "2            3   Amit    Delhi\n",
            "3            4  Priya  Chennai \n",
            "\n",
            "Transactions Dataset:\n",
            "   transaction_id  customer_id  amount\n",
            "0             101            1    2500\n",
            "1             102            2    4000\n",
            "2             103            1    1500\n",
            "3             104            3    3000\n",
            "4             105            4    2200\n",
            "5             106            2    3500 \n",
            "\n",
            "Merged Dataset:\n",
            "   transaction_id  customer_id  amount   name     city\n",
            "0             101            1    2500   Ravi    Delhi\n",
            "1             102            2    4000  Sneha   Mumbai\n",
            "2             103            1    1500   Ravi    Delhi\n",
            "3             104            3    3000   Amit    Delhi\n",
            "4             105            4    2200  Priya  Chennai\n",
            "5             106            2    3500  Sneha   Mumbai \n",
            "\n",
            "Total Spend per Customer:\n",
            "   customer_id   name  total_spend\n",
            "0            1   Ravi         4000\n",
            "1            2  Sneha         7500\n",
            "2            3   Amit         3000\n",
            "3            4  Priya         2200 \n",
            "\n",
            "City-wise Spending:\n",
            "      city  city_total_spend\n",
            "0  Chennai              2200\n",
            "1    Delhi              7000\n",
            "2   Mumbai              7500 \n",
            "\n",
            "Top Spender:\n",
            "customer_id        2\n",
            "name           Sneha\n",
            "total_spend     7500\n",
            "Name: 1, dtype: object \n",
            "\n",
            "Insights:\n",
            "- Sneha is the top spender with ₹7500.\n",
            "- City-wise, Mumbai has the highest total spending.\n"
          ]
        }
      ],
      "source": [
        "import pandas as pd\n",
        "\n",
        "customers = pd.DataFrame({\n",
        "    'customer_id': [1, 2, 3, 4],\n",
        "    'name': ['Ravi', 'Sneha', 'Amit', 'Priya'],\n",
        "    'city': ['Delhi', 'Mumbai', 'Delhi', 'Chennai']\n",
        "})\n",
        "\n",
        "print(\"Customers Dataset:\")\n",
        "print(customers, \"\\n\")\n",
        "\n",
        "transactions = pd.DataFrame({\n",
        "    'transaction_id': [101, 102, 103, 104, 105, 106],\n",
        "    'customer_id': [1, 2, 1, 3, 4, 2],\n",
        "    'amount': [2500, 4000, 1500, 3000, 2200, 3500]\n",
        "})\n",
        "\n",
        "print(\"Transactions Dataset:\")\n",
        "print(transactions, \"\\n\")\n",
        "\n",
        "\n",
        "merged_df = pd.merge(transactions, customers, on='customer_id', how='inner')\n",
        "print(\"Merged Dataset:\")\n",
        "print(merged_df, \"\\n\")\n",
        "\n",
        "\n",
        "customer_spend = merged_df.groupby(['customer_id', 'name'])['amount'].sum().reset_index()\n",
        "customer_spend.rename(columns={'amount': 'total_spend'}, inplace=True)\n",
        "print(\"Total Spend per Customer:\")\n",
        "print(customer_spend, \"\\n\")\n",
        "city_spend = merged_df.groupby('city')['amount'].sum().reset_index()\n",
        "city_spend.rename(columns={'amount': 'city_total_spend'}, inplace=True)\n",
        "print(\"City-wise Spending:\")\n",
        "print(city_spend, \"\\n\")\n",
        "\n",
        "\n",
        "top_spender = customer_spend.loc[customer_spend['total_spend'].idxmax()]\n",
        "print(\"Top Spender:\")\n",
        "print(top_spender, \"\\n\")\n",
        "\n",
        "print(\"Insights:\")\n",
        "print(f\"- {top_spender['name']} is the top spender with ₹{top_spender['total_spend']}.\")\n",
        "print(f\"- City-wise, {city_spend.loc[city_spend['city_total_spend'].idxmax(), 'city']} has the highest total spending.\")\n"
      ]
    }
  ]
}