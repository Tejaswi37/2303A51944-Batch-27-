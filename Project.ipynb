{
  "nbformat": 4,
  "nbformat_minor": 0,
  "metadata": {
    "colab": {
      "provenance": [],
      "authorship_tag": "ABX9TyOIcyJTzpRtmuKnso/7UCRR",
      "include_colab_link": true
    },
    "kernelspec": {
      "name": "python3",
      "display_name": "Python 3"
    },
    "language_info": {
      "name": "python"
    }
  },
  "cells": [
    {
      "cell_type": "markdown",
      "metadata": {
        "id": "view-in-github",
        "colab_type": "text"
      },
      "source": [
        "<a href=\"https://colab.research.google.com/github/Tejaswi37/2303A51944-Batch-27-/blob/main/Project.ipynb\" target=\"_parent\"><img src=\"https://colab.research.google.com/assets/colab-badge.svg\" alt=\"Open In Colab\"/></a>"
      ]
    },
    {
      "cell_type": "code",
      "execution_count": 14,
      "metadata": {
        "id": "pAw30GOc70U9"
      },
      "outputs": [],
      "source": [
        "import pandas as pd\n",
        "import numpy as np\n"
      ]
    },
    {
      "cell_type": "code",
      "source": [
        "from pathlib import Path"
      ],
      "metadata": {
        "id": "cKz5Zi6GBW12"
      },
      "execution_count": 15,
      "outputs": []
    },
    {
      "cell_type": "code",
      "source": [
        "from sklearn.model_selection import train_test_split\n",
        "from sklearn.preprocessing import StandardScaler\n",
        "from sklearn.pipeline import Pipeline\n",
        "from sklearn.metrics import classification_report\n"
      ],
      "metadata": {
        "id": "DkhzGazDBaJq"
      },
      "execution_count": 16,
      "outputs": []
    },
    {
      "cell_type": "code",
      "source": [
        "from sklearn.linear_model import LogisticRegression\n",
        "from sklearn.neighbors import KNeighborsClassifier\n",
        "from sklearn.svm import SVC\n",
        "from sklearn.tree import DecisionTreeClassifier\n",
        "from sklearn.ensemble import RandomForestClassifier, GradientBoostingClassifier\n",
        "from sklearn.naive_bayes import GaussianNB\n",
        "from sklearn.discriminant_analysis import LinearDiscriminantAnalysis"
      ],
      "metadata": {
        "id": "F5QErncaBdmY"
      },
      "execution_count": 17,
      "outputs": []
    },
    {
      "cell_type": "code",
      "source": [
        "# Load\n",
        "csv_path = Path(\"synthetic_personal_finance_dataset.csv\")\n",
        "if not csv_path.exists():\n",
        "    alt = Path(\"synthetic_personal_finance_dataset (1).csv\")\n",
        "    if alt.exists():\n",
        "        csv_path = alt\n",
        "df = pd.read_csv(csv_path)\n"
      ],
      "metadata": {
        "id": "6elvg8ZnBhdV"
      },
      "execution_count": 20,
      "outputs": []
    },
    {
      "cell_type": "code",
      "source": [
        "# Features\n",
        "features = [\n",
        "    \"monthly_income_usd\",\n",
        "    \"monthly_expenses_usd\",\n",
        "    \"savings_usd\",\n",
        "    \"debt_to_income_ratio\",\n",
        "    \"savings_to_income_ratio\",\n",
        "]"
      ],
      "metadata": {
        "id": "P2G2wqScBvUf"
      },
      "execution_count": 21,
      "outputs": []
    },
    {
      "cell_type": "code",
      "source": [
        "df = df.dropna(subset=features).copy()"
      ],
      "metadata": {
        "id": "Uksg1dHOByjs"
      },
      "execution_count": 22,
      "outputs": []
    },
    {
      "cell_type": "code",
      "source": [
        "# Quantiles\n",
        "q_income_low, q_income_high = df[\"monthly_income_usd\"].quantile([0.33, 0.67])\n",
        "q_sav_low, q_sav_high = df[\"savings_usd\"].quantile([0.33, 0.67])\n",
        "q_dti_high = df[\"debt_to_income_ratio\"].quantile(0.67)\n"
      ],
      "metadata": {
        "id": "KEGv4-MZB1en"
      },
      "execution_count": 23,
      "outputs": []
    },
    {
      "cell_type": "code",
      "source": [
        "def assign_financial_profile(income, savings, dti,\n",
        "                             q_income_low, q_income_high,\n",
        "                             q_sav_low, q_sav_high, q_dti_high):\n",
        "    if (income >= q_income_high) and (savings >= q_sav_high) and (dti < q_dti_high):\n",
        "        return \"HI_HS\"   # High Income – High Savings (financially healthy)\n",
        "\n",
        "    if (income >= q_income_high) and (dti >= q_dti_high) and (savings < q_sav_high):\n",
        "        return \"HI_HD\"   # High Income – High Debt (at risk despite high earning)\n",
        "\n",
        "    if (q_income_low <= income < q_income_high) and (dti >= q_dti_high):\n",
        "        return \"MI_HD\"   # Mid Income – High Debt (financially vulnerable)\n",
        "\n",
        "    if (income <= q_income_low) and (savings <= q_sav_low):\n",
        "        return \"LI_LS\"   # Low Income – Low Savings (most vulnerable group)\n",
        "\n",
        "    return \"Other\"       # Residual group (doesn’t fit above strict categories)\n"
      ],
      "metadata": {
        "id": "wEJLO-9MCmZT"
      },
      "execution_count": 41,
      "outputs": []
    },
    {
      "cell_type": "code",
      "source": [
        "df[\"profile_label\"] = df.apply(label_row, axis=1)\n"
      ],
      "metadata": {
        "id": "gX61NbQ7Cwzd"
      },
      "execution_count": 42,
      "outputs": []
    },
    {
      "cell_type": "code",
      "source": [
        "focus_classes = [\"HI_HS\", \"HI_HD\", \"MI_HD\", \"LI_LS\"]\n",
        "df_focus = df[df[\"profile_label\"].isin(focus_classes)].copy()\n",
        "if len(df_focus) < 2000:\n",
        "    df_focus = df.copy()"
      ],
      "metadata": {
        "id": "8mY-5F1TCzvV"
      },
      "execution_count": 43,
      "outputs": []
    },
    {
      "cell_type": "code",
      "source": [
        "X = df_focus[features].copy()\n",
        "y = df_focus[\"profile_label\"].copy()"
      ],
      "metadata": {
        "id": "ES-K2uzFC3mx"
      },
      "execution_count": 44,
      "outputs": []
    },
    {
      "cell_type": "code",
      "source": [
        "# Split\n",
        "stratify = y if y.nunique() <= 20 and y.value_counts().min() >= 2 else None\n",
        "X_train, X_test, y_train, y_test = train_test_split(\n",
        "    X, y, test_size=0.2, random_state=42, stratify=stratify\n",
        ")"
      ],
      "metadata": {
        "id": "S-hFCmKkC-Ln"
      },
      "execution_count": 45,
      "outputs": []
    },
    {
      "cell_type": "code",
      "source": [
        "# Models\n",
        "models = {\n",
        "    \"LogisticRegression\": Pipeline([(\"scaler\", StandardScaler()), (\"clf\", LogisticRegression(max_iter=200, multi_class=\"auto\"))]),\n",
        "    \"KNN\": Pipeline([(\"scaler\", StandardScaler()), (\"clf\", KNeighborsClassifier(n_neighbors=11))]),\n",
        "    \"SVC_RBF\": Pipeline([(\"scaler\", StandardScaler()), (\"clf\", SVC(kernel=\"rbf\"))]),\n",
        "    \"DecisionTree\": DecisionTreeClassifier(random_state=42),\n",
        "    \"RandomForest\": RandomForestClassifier(n_estimators=300, random_state=42),\n",
        "    \"GradientBoosting\": GradientBoostingClassifier(random_state=42),\n",
        "    \"GaussianNB\": Pipeline([(\"scaler\", StandardScaler()), (\"clf\", GaussianNB())]),\n",
        "    \"LDA\": Pipeline([(\"scaler\", StandardScaler()), (\"clf\", LinearDiscriminantAnalysis())]),\n",
        "}"
      ],
      "metadata": {
        "id": "rfMVlUziC_CB"
      },
      "execution_count": 46,
      "outputs": []
    },
    {
      "cell_type": "code",
      "source": [
        "# Train & Evaluate\n",
        "for name, model in models.items():\n",
        "    model.fit(X_train, y_train)\n",
        "    y_pred = model.predict(X_test)\n",
        "    print(\"=\" * 80)\n",
        "    print(name)\n",
        "    print(\"-\" * 80)\n",
        "    print(classification_report(y_test, y_pred, digits=3))\n"
      ],
      "metadata": {
        "colab": {
          "base_uri": "https://localhost:8080/"
        },
        "id": "qGICaJkbDD5O",
        "outputId": "698d243d-320d-4ece-9a4a-464c443376e9"
      },
      "execution_count": 47,
      "outputs": [
        {
          "output_type": "stream",
          "name": "stderr",
          "text": [
            "/usr/local/lib/python3.12/dist-packages/sklearn/linear_model/_logistic.py:1247: FutureWarning: 'multi_class' was deprecated in version 1.5 and will be removed in 1.7. From then on, it will always use 'multinomial'. Leave it to its default value to avoid this warning.\n",
            "  warnings.warn(\n"
          ]
        },
        {
          "output_type": "stream",
          "name": "stdout",
          "text": [
            "================================================================================\n",
            "LogisticRegression\n",
            "--------------------------------------------------------------------------------\n",
            "              precision    recall  f1-score   support\n",
            "\n",
            "       HI_HD      0.973     0.948     0.960       191\n",
            "       HI_HS      0.997     1.000     0.999       672\n",
            "       LI_LS      0.997     0.998     0.997       934\n",
            "       MI_HD      0.980     0.984     0.982       547\n",
            "\n",
            "    accuracy                          0.991      2344\n",
            "   macro avg      0.987     0.982     0.984      2344\n",
            "weighted avg      0.991     0.991     0.991      2344\n",
            "\n",
            "================================================================================\n",
            "KNN\n",
            "--------------------------------------------------------------------------------\n",
            "              precision    recall  f1-score   support\n",
            "\n",
            "       HI_HD      0.989     0.932     0.960       191\n",
            "       HI_HS      0.999     1.000     0.999       672\n",
            "       LI_LS      0.993     0.994     0.993       934\n",
            "       MI_HD      0.966     0.982     0.974       547\n",
            "\n",
            "    accuracy                          0.988      2344\n",
            "   macro avg      0.986     0.977     0.981      2344\n",
            "weighted avg      0.988     0.988     0.988      2344\n",
            "\n",
            "================================================================================\n",
            "SVC_RBF\n",
            "--------------------------------------------------------------------------------\n",
            "              precision    recall  f1-score   support\n",
            "\n",
            "       HI_HD      1.000     0.979     0.989       191\n",
            "       HI_HS      0.999     1.000     0.999       672\n",
            "       LI_LS      0.996     0.996     0.996       934\n",
            "       MI_HD      0.985     0.991     0.988       547\n",
            "\n",
            "    accuracy                          0.994      2344\n",
            "   macro avg      0.995     0.991     0.993      2344\n",
            "weighted avg      0.994     0.994     0.994      2344\n",
            "\n",
            "================================================================================\n",
            "DecisionTree\n",
            "--------------------------------------------------------------------------------\n",
            "              precision    recall  f1-score   support\n",
            "\n",
            "       HI_HD      1.000     1.000     1.000       191\n",
            "       HI_HS      1.000     1.000     1.000       672\n",
            "       LI_LS      1.000     1.000     1.000       934\n",
            "       MI_HD      1.000     1.000     1.000       547\n",
            "\n",
            "    accuracy                          1.000      2344\n",
            "   macro avg      1.000     1.000     1.000      2344\n",
            "weighted avg      1.000     1.000     1.000      2344\n",
            "\n",
            "================================================================================\n",
            "RandomForest\n",
            "--------------------------------------------------------------------------------\n",
            "              precision    recall  f1-score   support\n",
            "\n",
            "       HI_HD      1.000     1.000     1.000       191\n",
            "       HI_HS      1.000     1.000     1.000       672\n",
            "       LI_LS      1.000     1.000     1.000       934\n",
            "       MI_HD      1.000     1.000     1.000       547\n",
            "\n",
            "    accuracy                          1.000      2344\n",
            "   macro avg      1.000     1.000     1.000      2344\n",
            "weighted avg      1.000     1.000     1.000      2344\n",
            "\n",
            "================================================================================\n",
            "GradientBoosting\n",
            "--------------------------------------------------------------------------------\n",
            "              precision    recall  f1-score   support\n",
            "\n",
            "       HI_HD      1.000     1.000     1.000       191\n",
            "       HI_HS      1.000     1.000     1.000       672\n",
            "       LI_LS      1.000     1.000     1.000       934\n",
            "       MI_HD      1.000     1.000     1.000       547\n",
            "\n",
            "    accuracy                          1.000      2344\n",
            "   macro avg      1.000     1.000     1.000      2344\n",
            "weighted avg      1.000     1.000     1.000      2344\n",
            "\n",
            "================================================================================\n",
            "GaussianNB\n",
            "--------------------------------------------------------------------------------\n",
            "              precision    recall  f1-score   support\n",
            "\n",
            "       HI_HD      0.891     0.942     0.916       191\n",
            "       HI_HS      1.000     0.990     0.995       672\n",
            "       LI_LS      0.980     0.975     0.977       934\n",
            "       MI_HD      0.932     0.932     0.932       547\n",
            "\n",
            "    accuracy                          0.967      2344\n",
            "   macro avg      0.951     0.960     0.955      2344\n",
            "weighted avg      0.967     0.967     0.967      2344\n",
            "\n",
            "================================================================================\n",
            "LDA\n",
            "--------------------------------------------------------------------------------\n",
            "              precision    recall  f1-score   support\n",
            "\n",
            "       HI_HD      0.870     0.806     0.837       191\n",
            "       HI_HS      0.939     0.911     0.924       672\n",
            "       LI_LS      0.987     1.000     0.994       934\n",
            "       MI_HD      0.865     0.899     0.882       547\n",
            "\n",
            "    accuracy                          0.935      2344\n",
            "   macro avg      0.915     0.904     0.909      2344\n",
            "weighted avg      0.935     0.935     0.935      2344\n",
            "\n"
          ]
        }
      ]
    }
  ]
}