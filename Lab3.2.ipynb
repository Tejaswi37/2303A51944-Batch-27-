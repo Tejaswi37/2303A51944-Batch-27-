{
  "nbformat": 4,
  "nbformat_minor": 0,
  "metadata": {
    "colab": {
      "provenance": [],
      "authorship_tag": "ABX9TyNS2y08tO2bWvXK9uuKacsQ",
      "include_colab_link": true
    },
    "kernelspec": {
      "name": "python3",
      "display_name": "Python 3"
    },
    "language_info": {
      "name": "python"
    }
  },
  "cells": [
    {
      "cell_type": "markdown",
      "metadata": {
        "id": "view-in-github",
        "colab_type": "text"
      },
      "source": [
        "<a href=\"https://colab.research.google.com/github/Tejaswi37/2303A51944-Batch-27-/blob/main/Lab3.2.ipynb\" target=\"_parent\"><img src=\"https://colab.research.google.com/assets/colab-badge.svg\" alt=\"Open In Colab\"/></a>"
      ]
    },
    {
      "cell_type": "code",
      "execution_count": 1,
      "metadata": {
        "id": "hGE6hc_uzlOO"
      },
      "outputs": [],
      "source": [
        "import numpy as np"
      ]
    },
    {
      "cell_type": "code",
      "source": [
        "np.random.seed(10)\n",
        "image = np.random.randint(0, 256, size=(3, 3, 3))\n",
        "print(\"Original RGB Image Matrix:\\n\", image)\n",
        "\n"
      ],
      "metadata": {
        "colab": {
          "base_uri": "https://localhost:8080/"
        },
        "id": "YawZnJyGFmH9",
        "outputId": "62542ea7-0661-4561-8958-149f8668e4c1"
      },
      "execution_count": 2,
      "outputs": [
        {
          "output_type": "stream",
          "name": "stdout",
          "text": [
            "Original RGB Image Matrix:\n",
            " [[[  9 125 228]\n",
            "  [ 15  64 113]\n",
            "  [123 156 217]]\n",
            "\n",
            " [[221 240 157]\n",
            "  [113 250   8]\n",
            "  [ 73   0 234]]\n",
            "\n",
            " [[ 40 246 164]\n",
            "  [115  16 100]\n",
            "  [239 139  54]]]\n"
          ]
        }
      ]
    },
    {
      "cell_type": "code",
      "source": [
        "red_channel = image[:, :, 0]\n",
        "green_channel = image[:, :, 1]\n",
        "blue_channel = image[:, :, 2]\n",
        "\n",
        "print(\"\\nRed Channel:\\n\", red_channel)\n",
        "print(\"\\nGreen Channel:\\n\", green_channel)\n",
        "print(\"\\nBlue Channel:\\n\", blue_channel)\n"
      ],
      "metadata": {
        "colab": {
          "base_uri": "https://localhost:8080/"
        },
        "id": "6bQsGwfBFueC",
        "outputId": "b96b561f-c67a-48ae-ebb3-9e4106ec3839"
      },
      "execution_count": 3,
      "outputs": [
        {
          "output_type": "stream",
          "name": "stdout",
          "text": [
            "\n",
            "Red Channel:\n",
            " [[  9  15 123]\n",
            " [221 113  73]\n",
            " [ 40 115 239]]\n",
            "\n",
            "Green Channel:\n",
            " [[125  64 156]\n",
            " [240 250   0]\n",
            " [246  16 139]]\n",
            "\n",
            "Blue Channel:\n",
            " [[228 113 217]\n",
            " [157   8 234]\n",
            " [164 100  54]]\n"
          ]
        }
      ]
    },
    {
      "cell_type": "code",
      "source": [
        "avg_red = np.mean(red_channel)\n",
        "avg_green = np.mean(green_channel)\n",
        "avg_blue = np.mean(blue_channel)\n",
        "\n",
        "print(\"\\nAverage Intensities → Red:\", avg_red, \"Green:\", avg_green, \"Blue:\", avg_blue)\n"
      ],
      "metadata": {
        "colab": {
          "base_uri": "https://localhost:8080/"
        },
        "id": "ovj98n0yFy6C",
        "outputId": "7ceb7297-6cea-40e9-bde3-a796cf820245"
      },
      "execution_count": 4,
      "outputs": [
        {
          "output_type": "stream",
          "name": "stdout",
          "text": [
            "\n",
            "Average Intensities → Red: 105.33333333333333 Green: 137.33333333333334 Blue: 141.66666666666666\n"
          ]
        }
      ]
    },
    {
      "cell_type": "code",
      "source": [
        "brightened_image = np.clip(image + 50, 0, 255)\n",
        "print(\"\\nBrightened Image Matrix:\\n\", brightened_image)\n",
        "\n"
      ],
      "metadata": {
        "colab": {
          "base_uri": "https://localhost:8080/"
        },
        "id": "THxB5ef1F2y7",
        "outputId": "f2518ad1-7a7d-42fe-85df-2a128ac46355"
      },
      "execution_count": 5,
      "outputs": [
        {
          "output_type": "stream",
          "name": "stdout",
          "text": [
            "\n",
            "Brightened Image Matrix:\n",
            " [[[ 59 175 255]\n",
            "  [ 65 114 163]\n",
            "  [173 206 255]]\n",
            "\n",
            " [[255 255 207]\n",
            "  [163 255  58]\n",
            "  [123  50 255]]\n",
            "\n",
            " [[ 90 255 214]\n",
            "  [165  66 150]\n",
            "  [255 189 104]]]\n"
          ]
        }
      ]
    },
    {
      "cell_type": "code",
      "source": [
        "print(\"\\nPixel Difference After Brightness Increase:\\n\", brightened_image - image)"
      ],
      "metadata": {
        "colab": {
          "base_uri": "https://localhost:8080/"
        },
        "id": "-bzAGMidF6C7",
        "outputId": "7762c09c-fc90-4bf3-d533-a4d81ac0a672"
      },
      "execution_count": 6,
      "outputs": [
        {
          "output_type": "stream",
          "name": "stdout",
          "text": [
            "\n",
            "Pixel Difference After Brightness Increase:\n",
            " [[[50 50 27]\n",
            "  [50 50 50]\n",
            "  [50 50 38]]\n",
            "\n",
            " [[34 15 50]\n",
            "  [50  5 50]\n",
            "  [50 50 21]]\n",
            "\n",
            " [[50  9 50]\n",
            "  [50 50 50]\n",
            "  [16 50 50]]]\n"
          ]
        }
      ]
    }
  ]
}